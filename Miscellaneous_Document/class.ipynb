{
 "cells": [
  {
   "cell_type": "code",
   "execution_count": 1,
   "metadata": {},
   "outputs": [
    {
     "name": "stdout",
     "output_type": "stream",
     "text": [
      "1\n"
     ]
    }
   ],
   "source": [
    "class Circle(object):  # 创建Circle类\n",
    "   def __init__(self, R):  # 约定成俗这里应该使用r，它与self.r中的r同名\n",
    "       self.r = R\n",
    "\n",
    "circle1 = Circle(1)  \n",
    "print(circle1.r)  #我们访问的是小写r"
   ]
  },
  {
   "cell_type": "code",
   "execution_count": 3,
   "metadata": {},
   "outputs": [
    {
     "name": "stdout",
     "output_type": "stream",
     "text": [
      "----未修改前-----\n",
      "pi=\t 3.14\n",
      "circle1.pi=\t 3.14\n",
      "circle2.pi=\t 3.14\n",
      "----通过类名修改后-----\n",
      "pi=\t 3.14159\n",
      "circle1.pi=\t 3.14159\n",
      "circle2.pi=\t 3.14159\n",
      "----通过circle1实例名修改后-----\n",
      "pi=\t 3.14159\n",
      "circle1.pi=\t 3.14111\n",
      "circle2.pi=\t 3.14159\n",
      "----删除circle1实例属性pi-----\n",
      "pi=\t 3.14159\n",
      "circle1.pi=\t 3.14159\n",
      "circle2.pi=\t 3.14159\n"
     ]
    }
   ],
   "source": [
    "class Circle(object):\n",
    "   pi = 3.14  # 类属性\n",
    "\n",
    "   def __init__(self, r):\n",
    "       self.r = r\n",
    "\n",
    "circle1 = Circle(1)\n",
    "circle2 = Circle(2)\n",
    "print('----未修改前-----')\n",
    "print('pi=\\t', Circle.pi)\n",
    "print('circle1.pi=\\t', circle1.pi)  #  3.14\n",
    "print('circle2.pi=\\t', circle2.pi)  #  3.14\n",
    "print('----通过类名修改后-----')\n",
    "Circle.pi = 3.14159  # 通过类名修改类属性，所有实例的类属性被改变\n",
    "print('pi=\\t', Circle.pi)   #  3.14159\n",
    "print('circle1.pi=\\t', circle1.pi)   #  3.14159\n",
    "print('circle2.pi=\\t', circle2.pi)   #  3.14159\n",
    "print('----通过circle1实例名修改后-----')\n",
    "circle1.pi=3.14111   # 实际上这里是给circle1创建了一个与类属性同名的实例属性\n",
    "print('pi=\\t', Circle.pi)     #  3.14159\n",
    "print('circle1.pi=\\t', circle1.pi)  # 实例属性的访问优先级比类属性高，所以是3.14111   \n",
    "print('circle2.pi=\\t', circle2.pi)  #  3.14159\n",
    "print('----删除circle1实例属性pi-----')\n",
    "del circle1.pi\n",
    "print('pi=\\t', Circle.pi)\n",
    "print('circle1.pi=\\t', circle1.pi)\n",
    "print('circle2.pi=\\t', circle2.pi)"
   ]
  },
  {
   "cell_type": "code",
   "execution_count": 4,
   "metadata": {},
   "outputs": [
    {
     "name": "stdout",
     "output_type": "stream",
     "text": [
      "After local assignment: test spam\n",
      "After nonlocal assignment: nonlocal spam\n",
      "After global assignment: nonlocal spam\n",
      "In global scope: global spam\n"
     ]
    }
   ],
   "source": [
    "def scope_test():\n",
    "    def do_local():\n",
    "        spam = \"local spam\"\n",
    "\n",
    "    def do_nonlocal():\n",
    "        nonlocal spam\n",
    "        spam = \"nonlocal spam\"\n",
    "\n",
    "    def do_global():\n",
    "        global spam\n",
    "        spam = \"global spam\"\n",
    "\n",
    "    spam = \"test spam\"\n",
    "    do_local()\n",
    "    print(\"After local assignment:\", spam)\n",
    "    do_nonlocal()\n",
    "    print(\"After nonlocal assignment:\", spam)\n",
    "    do_global()\n",
    "    print(\"After global assignment:\", spam)\n",
    "\n",
    "scope_test()\n",
    "print(\"In global scope:\", spam)"
   ]
  },
  {
   "cell_type": "code",
   "execution_count": 5,
   "metadata": {},
   "outputs": [
    {
     "data": {
      "text/plain": [
       "(3.0, -4.5)"
      ]
     },
     "execution_count": 5,
     "metadata": {},
     "output_type": "execute_result"
    }
   ],
   "source": [
    "class Complex:\n",
    "    def __init__(self, realpart, imagpart):\n",
    "        self.r = realpart\n",
    "        self.i = imagpart\n",
    "\n",
    "x = Complex(3.0, -4.5)\n",
    "x.r, x.i\n"
   ]
  },
  {
   "cell_type": "code",
   "execution_count": 6,
   "metadata": {},
   "outputs": [
    {
     "name": "stdout",
     "output_type": "stream",
     "text": [
      "16\n"
     ]
    }
   ],
   "source": [
    "x.counter = 1\n",
    "while x.counter < 10:\n",
    "    x.counter = x.counter * 2\n",
    "print(x.counter)\n",
    "del x.counter"
   ]
  }
 ],
 "metadata": {
  "kernelspec": {
   "display_name": "Python 3",
   "language": "python",
   "name": "python3"
  },
  "language_info": {
   "codemirror_mode": {
    "name": "ipython",
    "version": 3
   },
   "file_extension": ".py",
   "mimetype": "text/x-python",
   "name": "python",
   "nbconvert_exporter": "python",
   "pygments_lexer": "ipython3",
   "version": "3.12.1"
  }
 },
 "nbformat": 4,
 "nbformat_minor": 2
}
