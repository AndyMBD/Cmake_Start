{
 "cells": [
  {
   "cell_type": "code",
   "execution_count": 1,
   "metadata": {},
   "outputs": [],
   "source": [
    "import numpy as np"
   ]
  },
  {
   "cell_type": "markdown",
   "metadata": {},
   "source": [
    "## Oscolliscope Calculation"
   ]
  },
  {
   "cell_type": "markdown",
   "metadata": {},
   "source": [
    "memory depth 4M ch  \n",
    "time scale 160us/div  \n",
    "sampe rate 2.5G  \n",
    "4,000,000 / ((160uS/div) * 10 divisions) = 2.5 gigasamples/second."
   ]
  },
  {
   "cell_type": "code",
   "execution_count": 2,
   "metadata": {},
   "outputs": [
    {
     "name": "stdout",
     "output_type": "stream",
     "text": [
      "sampe_rate = 2.50e+09\n",
      "time = 4.00e-04\n",
      "memory = 1.00e+07\n"
     ]
    }
   ],
   "source": [
    "memory_length=10e6#10M memory depth\n",
    "time=400e-6 #time 160us\n",
    "sampe_rate=memory_length/(10*time)\n",
    "sampe_rate\n",
    "print('sampe_rate =','%0.2e'%sampe_rate)\n",
    "print('time =','%0.2e'%time)\n",
    "sample_rate=2.5e9\n",
    "memory=sample_rate*time*10\n",
    "print(\"memory =\", '%0.2e' % memory)\n",
    "\n"
   ]
  },
  {
   "cell_type": "code",
   "execution_count": 4,
   "metadata": {},
   "outputs": [
    {
     "data": {
      "text/plain": [
       "56.5625"
      ]
     },
     "execution_count": 4,
     "metadata": {},
     "output_type": "execute_result"
    }
   ],
   "source": [
    "EE_freq=90.5\n",
    "EE_t=1/EE_freq\n",
    "EE_RPM=60*EE_freq\n",
    "Motor_RPM=5*EE_RPM\n",
    "Gear_Ratio=480\n",
    "Actuator_RPM=Motor_RPM/Gear_Ratio\n",
    "Actuator_RPM"
   ]
  },
  {
   "cell_type": "code",
   "execution_count": 8,
   "metadata": {},
   "outputs": [
    {
     "data": {
      "text/plain": [
       "3.0864197530864196e-06"
      ]
     },
     "execution_count": 8,
     "metadata": {},
     "output_type": "execute_result"
    }
   ],
   "source": [
    "Actuator_RPM=2.25\n",
    "Gear_Ratio=480\n",
    "Motor_RPM=Actuator_RPM*Gear_Ratio\n",
    "Motor_RPM\n",
    "Motor_PP=5\n",
    "EE_RPM=Motor_RPM*Motor_PP\n",
    "EE_RPM\n",
    "EE_Freq=1/(EE_RPM*60)\n",
    "EE_Freq\n"
   ]
  }
 ],
 "metadata": {
  "kernelspec": {
   "display_name": "Python 3",
   "language": "python",
   "name": "python3"
  },
  "language_info": {
   "codemirror_mode": {
    "name": "ipython",
    "version": 3
   },
   "file_extension": ".py",
   "mimetype": "text/x-python",
   "name": "python",
   "nbconvert_exporter": "python",
   "pygments_lexer": "ipython3",
   "version": "3.11.4"
  }
 },
 "nbformat": 4,
 "nbformat_minor": 2
}
