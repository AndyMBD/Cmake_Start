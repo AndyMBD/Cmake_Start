{
 "cells": [
  {
   "cell_type": "code",
   "execution_count": 1,
   "metadata": {},
   "outputs": [],
   "source": [
    "import numpy as np"
   ]
  },
  {
   "cell_type": "markdown",
   "metadata": {},
   "source": [
    "## Oscolliscope Calculation"
   ]
  },
  {
   "cell_type": "markdown",
   "metadata": {},
   "source": [
    "memory depth 4M ch  \n",
    "time scale 160us/div  \n",
    "sampe rate 2.5G  \n",
    "4,000,000 / ((160uS/div) * 10 divisions) = 2.5 gigasamples/second."
   ]
  },
  {
   "cell_type": "code",
   "execution_count": 3,
   "metadata": {},
   "outputs": [
    {
     "name": "stdout",
     "output_type": "stream",
     "text": [
      "sampe_rate = 2.50e+09\n",
      "time = 4.00e-04\n",
      "memory = 1.00e+07\n"
     ]
    }
   ],
   "source": [
    "memory_length=10e6#10M memory depth\n",
    "time=400e-6 #time 160us\n",
    "sampe_rate=memory_length/(10*time)\n",
    "sampe_rate\n",
    "print('sampe_rate =','%0.2e'%sampe_rate)\n",
    "print('time =','%0.2e'%time)\n",
    "sample_rate=2.5e9\n",
    "memory=sample_rate*time*10\n",
    "print(\"memory =\", '%0.2e' % memory)\n",
    "\n"
   ]
  }
 ],
 "metadata": {
  "kernelspec": {
   "display_name": "Python 3",
   "language": "python",
   "name": "python3"
  },
  "language_info": {
   "codemirror_mode": {
    "name": "ipython",
    "version": 3
   },
   "file_extension": ".py",
   "mimetype": "text/x-python",
   "name": "python",
   "nbconvert_exporter": "python",
   "pygments_lexer": "ipython3",
   "version": "3.12.1"
  }
 },
 "nbformat": 4,
 "nbformat_minor": 2
}
