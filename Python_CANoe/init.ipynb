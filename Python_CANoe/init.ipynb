{
 "cells": [
  {
   "cell_type": "code",
   "execution_count": 9,
   "metadata": {},
   "outputs": [
    {
     "name": "stdout",
     "output_type": "stream",
     "text": [
      "The student Sharon informations\n",
      "gender: girl\n",
      "number: 201132000\n",
      "class number: 2\n",
      "grade: 4\n"
     ]
    },
    {
     "data": {
      "text/plain": [
       "['__class__',\n",
       " '__delattr__',\n",
       " '__dict__',\n",
       " '__dir__',\n",
       " '__doc__',\n",
       " '__eq__',\n",
       " '__format__',\n",
       " '__ge__',\n",
       " '__getattribute__',\n",
       " '__getstate__',\n",
       " '__gt__',\n",
       " '__hash__',\n",
       " '__init__',\n",
       " '__init_subclass__',\n",
       " '__le__',\n",
       " '__lt__',\n",
       " '__module__',\n",
       " '__ne__',\n",
       " '__new__',\n",
       " '__reduce__',\n",
       " '__reduce_ex__',\n",
       " '__repr__',\n",
       " '__setattr__',\n",
       " '__sizeof__',\n",
       " '__str__',\n",
       " '__subclasshook__',\n",
       " '__weakref__',\n",
       " 'info']"
      ]
     },
     "execution_count": 9,
     "metadata": {},
     "output_type": "execute_result"
    }
   ],
   "source": [
    "class Student:\n",
    "    def __init__(self,name,number,gender,classnum,grade):\n",
    "        self.name=name\n",
    "        self.number=number\n",
    "        self.gender=gender\n",
    "        self.classnum=classnum\n",
    "        self.grade=grade\n",
    "\n",
    "    def info(self):\n",
    "        print('The student {} informations'.format(self.name))\n",
    "        print('gender:',self.gender)\n",
    "        print('number:',self.number)\n",
    "        print('class number:',self.classnum)\n",
    "        print('grade:',self.grade)\n",
    "\n",
    "student1=Student('Sharon',201132000,'girl',2,4)\n",
    "student2=Student('Ben',201432065,'boy',5,1)\n",
    "\n",
    "student1_list=student1.info\t\t# 给方法起名字\n",
    "student1_list()\t\t\t\t\t# 用名字调用方法\n",
    "# print(Student)\n",
    "dir(Student)\n",
    "# dir(student1)\n"
   ]
  },
  {
   "cell_type": "code",
   "execution_count": 2,
   "metadata": {},
   "outputs": [
    {
     "ename": "AttributeError",
     "evalue": "'<win32com.gen_py.CANoe 12.0 Type Library.ISystem3 instance at 0x2235417427408>' object has no attribute 'Name'",
     "output_type": "error",
     "traceback": [
      "\u001b[1;31m---------------------------------------------------------------------------\u001b[0m",
      "\u001b[1;31mAttributeError\u001b[0m                            Traceback (most recent call last)",
      "Cell \u001b[1;32mIn[2], line 7\u001b[0m\n\u001b[0;32m      5\u001b[0m mApp \u001b[39m=\u001b[39m Dispatch(\u001b[39m'\u001b[39m\u001b[39mCANoe.Application\u001b[39m\u001b[39m'\u001b[39m)\n\u001b[0;32m      6\u001b[0m mSystem\u001b[39m=\u001b[39mmApp\u001b[39m.\u001b[39mSystem\n\u001b[1;32m----> 7\u001b[0m \u001b[39mprint\u001b[39m(mSystem\u001b[39m.\u001b[39;49mName)\n\u001b[0;32m      8\u001b[0m \u001b[39m# print(mApp)\u001b[39;00m\n\u001b[0;32m      9\u001b[0m \u001b[39m# mMeasurement = mApp.Measurement\u001b[39;00m\n\u001b[0;32m     10\u001b[0m \u001b[39m# mMeasurement\u001b[39;00m\n\u001b[1;32m   (...)\u001b[0m\n\u001b[0;32m     17\u001b[0m \u001b[39m# mVariables = mNamespace.Variables\u001b[39;00m\n\u001b[0;32m     18\u001b[0m \u001b[39m# mVariable = mVariables.Item(\"MyVariable\")\u001b[39;00m\n",
      "File \u001b[1;32m~\\AppData\\Roaming\\Python\\Python312\\site-packages\\win32com\\client\\__init__.py:582\u001b[0m, in \u001b[0;36mDispatchBaseClass.__getattr__\u001b[1;34m(self, attr)\u001b[0m\n\u001b[0;32m    580\u001b[0m args \u001b[39m=\u001b[39m \u001b[39mself\u001b[39m\u001b[39m.\u001b[39m_prop_map_get_\u001b[39m.\u001b[39mget(attr)\n\u001b[0;32m    581\u001b[0m \u001b[39mif\u001b[39;00m args \u001b[39mis\u001b[39;00m \u001b[39mNone\u001b[39;00m:\n\u001b[1;32m--> 582\u001b[0m     \u001b[39mraise\u001b[39;00m \u001b[39mAttributeError\u001b[39;00m(\n\u001b[0;32m    583\u001b[0m         \u001b[39m\"\u001b[39m\u001b[39m'\u001b[39m\u001b[39m%s\u001b[39;00m\u001b[39m'\u001b[39m\u001b[39m object has no attribute \u001b[39m\u001b[39m'\u001b[39m\u001b[39m%s\u001b[39;00m\u001b[39m'\u001b[39m\u001b[39m\"\u001b[39m \u001b[39m%\u001b[39m (\u001b[39mrepr\u001b[39m(\u001b[39mself\u001b[39m), attr)\n\u001b[0;32m    584\u001b[0m     )\n\u001b[0;32m    585\u001b[0m \u001b[39mreturn\u001b[39;00m \u001b[39mself\u001b[39m\u001b[39m.\u001b[39m_ApplyTypes_(\u001b[39m*\u001b[39margs)\n",
      "\u001b[1;31mAttributeError\u001b[0m: '<win32com.gen_py.CANoe 12.0 Type Library.ISystem3 instance at 0x2235417427408>' object has no attribute 'Name'"
     ]
    }
   ],
   "source": [
    "from win32com.client import *\n",
    "from win32com.client.connect import *\n",
    "\n",
    "# mApp = DispatchEx('CANoe.Application')\n",
    "mApp = Dispatch('CANoe.Application')\n",
    "mSystem=mApp.System\n",
    "print(mSystem.name)\n",
    "# print(mApp)\n",
    "# mMeasurement = mApp.Measurement\n",
    "# mMeasurement\n",
    "# mSystem = mApp.System\n",
    "# mSystem\n",
    "# mNamespaces = mSystem.Namespaces\n",
    "# mNamespaces\n",
    "\n",
    "# mNamespace = mNamespaces.Item(\"MyNamespace\")\n",
    "# mVariables = mNamespace.Variables\n",
    "# mVariable = mVariables.Item(\"MyVariable\")"
   ]
  }
 ],
 "metadata": {
  "kernelspec": {
   "display_name": "Python 3",
   "language": "python",
   "name": "python3"
  },
  "language_info": {
   "codemirror_mode": {
    "name": "ipython",
    "version": 3
   },
   "file_extension": ".py",
   "mimetype": "text/x-python",
   "name": "python",
   "nbconvert_exporter": "python",
   "pygments_lexer": "ipython3",
   "version": "3.12.1"
  }
 },
 "nbformat": 4,
 "nbformat_minor": 2
}
