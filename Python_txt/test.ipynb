{
 "cells": [
  {
   "cell_type": "code",
   "execution_count": 2,
   "metadata": {},
   "outputs": [
    {
     "name": "stdout",
     "output_type": "stream",
     "text": [
      "hello\n",
      "789\n",
      "123\n",
      "456\n",
      "yes\n",
      "hah\n",
      "yes\n",
      "hello\n",
      "123\n",
      "yes\n"
     ]
    }
   ],
   "source": [
    "#\"单下划线\" 开始的成员变量叫做保护变量，意思是只有类对象和子类对象自己能访问到这些变量；\n",
    "#\"双下划线\" 开始的是私有成员，意思是只有类对象自己能访问，连子类对象也不能访问到这个数据。\n",
    "class  text( object ):\n",
    "     var1  =  'hello'\n",
    "     _var2  =  'yes'\n",
    "     __var3  =  'hah'\n",
    "     def  __init__( self ):\n",
    "         self ._a  =  123\n",
    "         self .__b  =  456\n",
    "         self .c  =  789\n",
    " \n",
    "     def  Write( self ):\n",
    "         return  self ._a\n",
    " \n",
    "     def  Write_With_Return( self ):\n",
    "         return  self .__b\n",
    " \n",
    "     def  show_var2( self ):\n",
    "         return  self ._var2\n",
    " \n",
    "     def  show_var3( self ):\n",
    "         return  self .__var3\n",
    " \n",
    "class  Foo(Pub):\n",
    "     pass\n",
    "print (Pub.var1)\n",
    " \n",
    "sl  =  Pub()\n",
    "print (sl.c)\n",
    "print (sl.show_a_var())\n",
    "print (sl.show_b_var())\n",
    " \n",
    "print (sl.show_var2())\n",
    "print (sl.show_var3())\n",
    " \n",
    "fa  =  Foo()\n",
    "print (fa._var2)\n",
    "print (fa.var1)\n",
    "print (fa.show_a_var())\n",
    "print (fa.show_var2())"
   ]
  }
 ],
 "metadata": {
  "kernelspec": {
   "display_name": "Python 3",
   "language": "python",
   "name": "python3"
  },
  "language_info": {
   "codemirror_mode": {
    "name": "ipython",
    "version": 3
   },
   "file_extension": ".py",
   "mimetype": "text/x-python",
   "name": "python",
   "nbconvert_exporter": "python",
   "pygments_lexer": "ipython3",
   "version": "3.12.1"
  }
 },
 "nbformat": 4,
 "nbformat_minor": 2
}
